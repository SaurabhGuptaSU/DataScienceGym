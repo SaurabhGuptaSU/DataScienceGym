{
 "nbformat": 4,
 "nbformat_minor": 2,
 "metadata": {
  "kernelspec": {
   "display_name": "Python 3",
   "language": "python",
   "name": "python3"
  }
 },
 "cells": [
  {
   "cell_type": "code",
   "execution_count": null,
   "metadata": {},
   "outputs": [],
   "source": [
    "import pandas as pd\n",
    "import numpy as np\n",
    "import seaborn as sb\n",
    "import matplotlib.pyplot as plt\n",
    "%matplotlib inline"
   ]
  },
  {
   "cell_type": "code",
   "execution_count": null,
   "metadata": {},
   "outputs": [],
   "source": [
    "np.random.seed(1234)\n",
    "df_1 = pd.DataFrame({'A': ['a', 'b', 'c', 'd']*5,\n",
    "                     'B': np.random.randn(20),\n",
    "                     'C': np.random.randint(7, size=20)})\n",
    "df_2 = pd.read_csv('data/pandas_2_df_2.csv')\n",
    "df_3 = pd.read_csv('data/pandas_2_df_3.csv')\n",
    "df_4 = pd.read_csv('data/pandas_2_df_4.csv')"
   ]
  },
  {
   "cell_type": "markdown",
   "metadata": {},
   "source": [
    "# Assignment 2.1\n",
    "Find the minimum, maximum and median values of all columns for each unique value in column `A` in DataFrame `df_1`.The `groupby` method on a pandas DataFrame has the possibility to group by the index values by using `.groupby(level=0)`\n",
    "<details><summary>Hint 1</summary>\n",
    "    <p>\n",
    "        Use the `groupby` method on a DataFrame to compute aggregate values for each unique value in a column\n",
    "    </p>\n",
    "</details>\n",
    "<details><summary>Hint 2</summary>\n",
    "    <p>\n",
    "        It is possible to apply multiple aggregation functions to a `groupby` object by using the `agg` method and providing the function names as a list of strings\n",
    "    </p>\n",
    "</details>"
   ]
  },
  {
   "cell_type": "code",
   "execution_count": null,
   "metadata": {},
   "outputs": [],
   "source": []
  },
  {
   "cell_type": "markdown",
   "metadata": {},
   "source": [
    "# Assignment 2.2\n",
    "For each unique combination of values from columns `A` and `C`, find the average of the values in column `B`. Return a DataFrame with columns `A`, `B_avg` and `C`, where `B_avg` holds the result of the average over the `B` column, while `A` and `C` hold the values for the unique combinations.\n",
    "<details><summary>Hint 1</summary>\n",
    "    <p>\n",
    "        The `groupby` method on a pandas DataFrame can take a list of column names as input, and will group by every unique combination of values in the listed columns\n",
    "    </p>\n",
    "</details>\n",
    "<details><summary>Hint 2</summary>\n",
    "    <p>\n",
    "        Applying a single aggregate function to a `groupby` object returns a Series. This series has a method `rename` for renaming it\n",
    "    </p>\n",
    "</details>"
   ]
  },
  {
   "cell_type": "code",
   "execution_count": null,
   "metadata": {},
   "outputs": [],
   "source": []
  },
  {
   "cell_type": "markdown",
   "metadata": {},
   "source": [
    "# Assignment 2.3\n",
    "The DataFrame `df_2` contains students' ID (`student_id`), their ID's of the courses (`course_id`) and their grade (`grade`). Compute, for every student, the ratio of grades that are A's or B's.\n",
    "<details><summary>Hint 1</summary>\n",
    "    <p>\n",
    "        The `groupby` method on a pandas DataFrame has the possibility to group by the index values by using `.groupby(level=0)`\n",
    "    </p>\n",
    "</details>\n",
    "<details><summary>Hint 2</summary>\n",
    "    <p>\n",
    "        Applying a numerical aggregate function to a Boolean Series, leads pandas interpreting True as a 1 and False as a 0\n",
    "    </p>\n",
    "</details>\n",
    "<details><summary>Hint 3</summary>\n",
    "    <p>\n",
    "        Setting `student_id` as index to begin with, ensures that a `isin` can be applied to the relevant columns, while avoiding applying it to the `student_id`\n",
    "    </p>\n",
    "</details>"
   ]
  },
  {
   "cell_type": "code",
   "execution_count": null,
   "metadata": {},
   "outputs": [],
   "source": []
  },
  {
   "cell_type": "markdown",
   "metadata": {},
   "source": [
    "# Assignment 2.4\n",
    "The DataFrame `df_3` contains a series of columns named after the pattern `variable name`_`time lag`, e.g. the variable `A` has current time unit's value, plus that of the last three time units, stored in `A_0`, `A_1`, `A_2`, `A_3`. Compute the average over all time lags for every variable name for every record. Return a DataFrame with the `customer_id` as index and the average of every variable as columns.\n",
    "\n",
    "All lag variables in DataFrame ends with _ and a single number.\n",
    "<details><summary>Hint 1</summary>\n",
    "    <p>\n",
    "        It is possible to group by columns by specifying `axis=1` as part of the input to the method\n",
    "    </p>\n",
    "</details>\n",
    "<details><summary>Hint 2</summary>\n",
    "    <p>\n",
    "        One can control which rows or columns are grouped together by supplying a list of values to the `by` parameter in the method\n",
    "    </p>\n",
    "</details>\n",
    "<details><summary>Hint 3</summary>\n",
    "    <p>\n",
    "        The python function `map` can apply a function to every element of a list\n",
    "    </p>\n",
    "</details>"
   ]
  },
  {
   "cell_type": "code",
   "execution_count": null,
   "metadata": {},
   "outputs": [],
   "source": []
  },
  {
   "cell_type": "markdown",
   "metadata": {},
   "source": [
    "# Assignment 2.5\n",
    "All the grades in `df_2` has a grading date in column `grade_date`. Find out which address the grades were sent to after each grading for every student. Use the data in `df_4` to get the address on file for the grading date.\n",
    "\n",
    "Return a DataFrame where each row holds a student ID, the grading date and a list of course IDs graded at that date, along with the address the grades were sent to.\n",
    "<details><summary>Hint 1</summary>\n",
    "    <p>\n",
    "        Pandas Series have the method `shift`, which shifts all values up or down by a certain number of steps. It leaves missing values in the places, where there is no value to shift in\n",
    "    </p>\n",
    "</details>\n",
    "<details><summary>Hint 2</summary>\n",
    "    <p>\n",
    "        Using the `apply` method on a `groupby` object, it is possible to perform manipulations on the DataFrame of values for each of the groups\n",
    "    </p>\n",
    "</details>"
   ]
  },
  {
   "cell_type": "code",
   "execution_count": null,
   "metadata": {},
   "outputs": [],
   "source": []
  }
 ]
}