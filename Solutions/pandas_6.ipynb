{
 "nbformat": 4,
 "nbformat_minor": 2,
 "metadata": {
  "kernelspec": {
   "display_name": "Python 3",
   "language": "python",
   "name": "python3"
  }
 },
 "cells": [
  {
   "cell_type": "code",
   "execution_count": null,
   "metadata": {},
   "outputs": [],
   "source": [
    "import pandas as pd\n",
    "import numpy as np\n",
    "import seaborn as sns\n",
    "import matplotlib.pyplot as plt\n",
    "sns.set()\n",
    "%matplotlib inline"
   ]
  },
  {
   "cell_type": "code",
   "execution_count": null,
   "metadata": {},
   "outputs": [],
   "source": [
    "np.random.seed(2355478)\n",
    "tmp = np.random.poisson(lam=57.3, size=365*10*4)\n",
    "tmp[np.random.choice(np.arange(tmp.shape[0]),size=365*32, replace=False)] = 0\n",
    "df = pd.DataFrame(tmp.reshape((40,365)),\n",
    "                  index=pd.MultiIndex.from_product([np.arange(1,11),np.arange(4)], names=['Customer','Product']),\n",
    "                  columns=pd.date_range(start='2017-01-01', end='2017-12-31'))"
   ]
  },
  {
   "cell_type": "markdown",
   "metadata": {},
   "source": [
    "# Assignment 6.1\n",
    "The DataFrame `df` holds the customers spend on a daily basis for a number of products. The column names are the individual dates in 2017, while the index values are the combinations of customer IDs and product IDs.\n",
    "\n",
    "Find the average spend per customer between 2017-04-02 and 2017-08-17, both dates included."
   ]
  },
  {
   "cell_type": "code",
   "execution_count": null,
   "metadata": {},
   "outputs": [],
   "source": [
    "df.loc[:,'2017-04-02':'2017-08-17'].groupby('Customer').sum().sum(axis=1)"
   ]
  },
  {
   "cell_type": "markdown",
   "metadata": {},
   "source": [
    "# Assignment 6.2\n",
    "Using the DataFrame `df` again, find the total monthly spend per product. Return a DataFrame where the index is the product ID and the columns are the month number"
   ]
  },
  {
   "cell_type": "code",
   "execution_count": null,
   "metadata": {},
   "outputs": [],
   "source": [
    "tmp = df.reset_index().melt(id_vars=df.index.names)\n",
    "tmp['month'] = tmp['variable'].dt.month\n",
    "monthly_spend_per_prod = tmp.groupby(['Product','month'])['value'].sum()\n",
    "monthly_spend_per_prod.reset_index().pivot(index='Product', columns='month', values='value')"
   ]
  },
  {
   "cell_type": "markdown",
   "metadata": {},
   "source": [
    "# Assignment 6.3\n",
    "Create a DataFrame showing the Customer IDs as index and the month number as columns. "
   ]
  },
  {
   "cell_type": "code",
   "execution_count": null,
   "metadata": {},
   "outputs": [],
   "source": [
    "cust_prod_spend_per_month = (tmp\n",
    "                             .groupby(['Customer','Product','month'])\n",
    "                             .sum()\n",
    "                             .reset_index()\n",
    "                             .merge(monthly_spend_per_prod\n",
    "                                    .rename('Total spend')\n",
    "                                    .to_frame(),\n",
    "                                    left_on = ['Product','month'],\n",
    "                                    right_index=True))\n",
    "cust_prod_spend_per_month['share'] = cust_prod_spend_per_month['value']/cust_prod_spend_per_month['Total spend']\n",
    "\n",
    "cust_prod_spend_per_month = (cust_prod_spend_per_month\n",
    "                             .merge(cust_prod_spend_per_month\n",
    "                                    .groupby(['Customer','month'])['share']\n",
    "                                    .max()\n",
    "                                    .rename('max_share')\n",
    "                                    .to_frame(),\n",
    "                                    left_on=['Customer','month'],\n",
    "                                    right_index=True))\n",
    "\n",
    "(cust_prod_spend_per_month[cust_prod_spend_per_month['share']==cust_prod_spend_per_month['max_share']]\n",
    " .pivot(index='Customer',\n",
    "        columns='month',\n",
    "        values='Product'))"
   ]
  },
  {
   "cell_type": "code",
   "execution_count": null,
   "metadata": {},
   "outputs": [],
   "source": []
  }
 ]
}